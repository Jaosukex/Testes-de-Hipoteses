{
 "cells": [
  {
   "cell_type": "markdown",
   "id": "56430453-9f58-4f1f-93d4-a1f14e2a6acc",
   "metadata": {},
   "source": [
    "## Bibliotecas"
   ]
  },
  {
   "cell_type": "code",
   "execution_count": 6,
   "id": "65d2eb54-c143-4fd8-b4f3-88040190f7cc",
   "metadata": {},
   "outputs": [],
   "source": [
    "import random\n",
    "import numpy as np\n",
    "import pandas as pd\n",
    "import matplotlib.pyplot as plt\n",
    "import seaborn as sns\n",
    "from scipy import stats"
   ]
  },
  {
   "cell_type": "markdown",
   "id": "64c4c9e8-dd46-4c6e-ac06-b9c3cda699ae",
   "metadata": {},
   "source": [
    "### Tabelas de Constantes"
   ]
  },
  {
   "cell_type": "code",
   "execution_count": 7,
   "id": "0070bba0-fb8c-4d2c-963d-80f73fa812dc",
   "metadata": {},
   "outputs": [],
   "source": [
    "c_alpha_ks = {0.20: 1.07, 0.15: 1.14,\n",
    "          0.10: 1.22, 0.05: 1.36,\n",
    "          0.01: 1.63\n",
    "         }"
   ]
  },
  {
   "cell_type": "code",
   "execution_count": 69,
   "id": "92482586-d924-4b4b-9446-41af497e7ebe",
   "metadata": {},
   "outputs": [],
   "source": [
    "val_criticos_sw = {\n",
    "    3:  {0.01: 0.753, 0.05: 0.767, 0.10: 0.789},\n",
    "    4:  {0.01: 0.687, 0.05: 0.748, 0.10: 0.792},\n",
    "    5:  {0.01: 0.686, 0.05: 0.762, 0.10: 0.806},\n",
    "    6:  {0.01: 0.713, 0.05: 0.788, 0.10: 0.826},\n",
    "    7:  {0.01: 0.730, 0.05: 0.803, 0.10: 0.838},\n",
    "    8:  {0.01: 0.749, 0.05: 0.818, 0.10: 0.851},\n",
    "    9:  {0.01: 0.764, 0.05: 0.829, 0.10: 0.859},\n",
    "    10: {0.01: 0.781, 0.05: 0.842, 0.10: 0.869},\n",
    "    11: {0.01: 0.792, 0.05: 0.850, 0.10: 0.876},\n",
    "    12: {0.01: 0.805, 0.05: 0.859, 0.10: 0.883},\n",
    "    13: {0.01: 0.814, 0.05: 0.866, 0.10: 0.889},\n",
    "    14: {0.01: 0.825, 0.05: 0.874, 0.10: 0.895},\n",
    "    15: {0.01: 0.835, 0.05: 0.881, 0.10: 0.901},\n",
    "    16: {0.01: 0.844, 0.05: 0.887, 0.10: 0.906},\n",
    "    17: {0.01: 0.851, 0.05: 0.892, 0.10: 0.910},\n",
    "    18: {0.01: 0.858, 0.05: 0.897, 0.10: 0.914},\n",
    "    19: {0.01: 0.863, 0.05: 0.901, 0.10: 0.917},\n",
    "    20: {0.01: 0.868, 0.05: 0.905, 0.10: 0.920},\n",
    "    21: {0.01: 0.873, 0.05: 0.908, 0.10: 0.823},\n",
    "    22: {0.01: 0.878, 0.05: 0.911, 0.10: 0.926},\n",
    "    23: {0.01: 0.881, 0.05: 0.914, 0.10: 0.928},\n",
    "    24: {0.01: 0.884, 0.05: 0.916, 0.10: 0.930},\n",
    "    25: {0.01: 0.888, 0.05: 0.918, 0.10: 0.931},\n",
    "    26: {0.01: 0.891, 0.05: 0.920, 0.10: 0.933},\n",
    "    27: {0.01: 0.894, 0.05: 0.923, 0.10: 0.935},\n",
    "    28: {0.01: 0.896, 0.05: 0.924, 0.10: 0.936},\n",
    "    29: {0.01: 0.898, 0.05: 0.926, 0.10: 0.937}, \n",
    "    30: {0.01: 0.900, 0.05: 0.927, 0.10: 0.939}\n",
    "}"
   ]
  },
  {
   "cell_type": "code",
   "execution_count": 9,
   "id": "622f9bc5-7ec5-4197-9ce3-09844d0774ed",
   "metadata": {},
   "outputs": [],
   "source": [
    "coef_ain_sw = {2: [0.7071], 3: [0.7071, 0.0000], 4: [0.6872, 0.1677], 5: [0.6646, 0.2143, 0.0000], 6: [0.6431, 0.2806, 0.0875],\n",
    "               7: [0.6233, 0.3031, 0.1401, 0.0000], 8: [0.6052, 0.3164, 0.1743, 0.0561], 9: [0.5888, 0.3244, 0.1976, 0.0947, 0.0000], 10: [0.5739, 0.3291, 0.2141, 0.1224, 0.0399], 11: [0.5061, 0.3315, 0.2260, 0.1429, 0.0695, 0.0000],\n",
    "               12: [0.5475, 0.3325, 0.2347, 0.1586, 0.0922, 0.0303], 13: [0.5359, 0.3325, 0.2412, 0.1707, 0.1099, 0.0539, 0.0000], 14: [0.5251, 0.3318, 0.2460, 0.1802, 0.1240, 0.0727, 0.0240], 15: [0.5150, 0.3306, 0.2495, 0.1878, 0.1353, 0.0880, 0.0433, 0.0000], 16: [0.5056, 0.3290, 0.2521, 0.1939, 0.1447, 0.1005, 0.0593, 0.0196],\n",
    "               17: [0.4968, 0.3273, 0.2540, 0.1988, 0.1524, 0.1109, 0.0725, 0.0359, 0.0000] , 18: [0.4886, 0.3253, 0.2553, 0.2027, 0.1587, 0.1197, 0.0837, 0.0496, 0.0163], 19: [0.4808, 0.3232, 0.2561, 0.2059, 0.1641, 0.1271, 0.0932, 0.0612, 0.0303, 0.0000], 20: [0.4734, 0.3211, 0.2565, 0.2085, 0.1686, 0.1334, 0.1013, 0.0711, 0.0422, 0.0140], \n",
    "               21: [0.4643, 0.3185, 0.2578, 0.2119, 0.1736, 0.1399, 0.1092, 0.0804, 0.0530, 0.0263, 0.0000], 22: [0.4590, 0.3156, 0.2571, 0.2131, 0.1764, 0.1443, 0.1150, 0.0878, 0.0618, 0.0368, 0.0122], 23: [0.4542, 0.3126, 0.2563, 0.2139, 0.1787, 0.1480, 0.1201, 0.0941, 0.0696, 0.0459, 0.0228, 0.0000], 24: [0.4493, 0.3098, 0.2554, 0.2145, 0.1807, 0.1512, 0.1245, 0.0997, 0.0764, 0.0539, 0.0321, 0.0107], \n",
    "               25: [0.4450, 0.3069, 0.2543, 0.2148, 0.1822, 0.1539, 0.1283, 0.1046, 0.0823, 0.0610, 0.0403, 0.0200, 0.0000], 26: [0.4407, 0.3043, 0.2533, 0.2151, 0.1836, 0.1563, 0.1316, 0.1089, 0.0876, 0.0672, 0.0476, 0.0284, 0.0094], 27: [0.4366, 0.3018, 0.2522, 0.2152, 0.1848, 0.1584, 0.1346, 0.1128, 0.0923, 0.0728, 0.0540, 0.0358, 0.0178, 0.0000], 28: [0.4328, 0.2992, 0.2510, 0.2151, 0.1857, 0.1601, 0.1372, 0.1162, 0.0965, 0.0778, 0.0598, 0.0424, 0.0253, 0.0084],\n",
    "               29: [0.4291, 0.2968, 0.2499, 0.2150, 0.1864, 0.1616, 0.1395, 0.1192, 0.1002, 0.0822, 0.0650, 0.0483, 0.0320, 0.0159, 0.0000], 30: [0.4254, 0.2944, 0.2487, 0.2148, 0.1870, 0.1630, 0.1415, 0.1219, 0.1036, 0.0862, 0.0697, 0.0537, 0.0381, 0.0227, 0.0076]\n",
    "}"
   ]
  },
  {
   "cell_type": "markdown",
   "id": "de53b253-7ebf-4a6c-8b57-185f8ef3e3ae",
   "metadata": {},
   "source": [
    "### Funções de Exibição"
   ]
  },
  {
   "cell_type": "code",
   "execution_count": 10,
   "id": "9c73c4a1-8db0-464c-836f-db2be987be6a",
   "metadata": {},
   "outputs": [],
   "source": [
    "def tabelas(dados):\n",
    "    df = pd.DataFrame(dados)\n",
    "    print(df)"
   ]
  },
  {
   "cell_type": "code",
   "execution_count": 33,
   "id": "c1c470e5-a147-449b-ae07-04d788c16952",
   "metadata": {},
   "outputs": [],
   "source": [
    "from scipy.stats import ksone\n",
    "\n",
    "def plot_ks_distribution(n, stat, p_val, alpha=0.05):\n",
    "    # Distribuição teórica de D para n amostras\n",
    "    x = np.linspace(0, 1, 500)\n",
    "    y = ksone.pdf(x, n)\n",
    "\n",
    "    plt.figure(figsize=(8,5))\n",
    "    plt.plot(x, y, 'b-', label=\"Distribuição teórica de D (KS)\")\n",
    "\n",
    "    # Linha da estatística observada\n",
    "    plt.axvline(stat, color='red', linestyle='--', label=f\"Estatística observada: {stat:.3f}\")\n",
    "\n",
    "    # Região crítica (quantil)\n",
    "    crit = ksone.ppf(1-alpha, n)\n",
    "    plt.axvline(crit, color='black', linestyle='-.', label=f\"Valor crítico (α={alpha:.2f}): {crit:.3f}\")\n",
    "\n",
    "    # Ponto indicando o p-valor\n",
    "    y_p = ksone.pdf(stat, n)\n",
    "    plt.plot(stat, y_p, 'ro', markersize=8, label=f\"p-valor = {p_val:.3f}\")\n",
    "\n",
    "    plt.title(\"Distribuição da estatística KS\")\n",
    "    plt.xlabel(\"D\")\n",
    "    plt.ylabel(\"Densidade\")\n",
    "    plt.legend()\n",
    "    plt.grid(alpha=0.3)\n",
    "    plt.show()\n",
    "    "
   ]
  },
  {
   "cell_type": "markdown",
   "id": "ab68ab58-6047-4bd1-82db-c5ce435a0929",
   "metadata": {},
   "source": [
    "## Testes de Normalidade Univariada"
   ]
  },
  {
   "cell_type": "markdown",
   "id": "89ac70f8-0f29-4b49-8d53-adcd0c598d07",
   "metadata": {},
   "source": [
    "### Kolmogorov-Smirnov"
   ]
  },
  {
   "cell_type": "code",
   "execution_count": 11,
   "id": "95a4ba4b-75fb-4fc8-b9af-87bf6ebf3458",
   "metadata": {},
   "outputs": [],
   "source": [
    "def kolmogorov_smirnov(data, alpha, padrao=1, media=0, dp=0):\n",
    "    \n",
    "    valores = sorted(data) #Ordena os valores\n",
    "    n = len(valores) #tamanho da amostra\n",
    "    \n",
    "    #Contagem de valores repetidos\n",
    "    x = {}\n",
    "    for v in valores:\n",
    "        x[v] = x.get(v, 0) + 1\n",
    "\n",
    "    \n",
    "    xi = [] #Xi - valores\n",
    "    fabs = [] #Quantas vezes aparece o valor xi\n",
    "    fac = [] #Frequencia relativa acumulada\n",
    "    y = 0\n",
    "    for i, j in x.items():\n",
    "        xi.append(i)\n",
    "        fabs.append(j)\n",
    "        \n",
    "        y += j\n",
    "        fac.append(y)\n",
    "\n",
    "    fobs = [] #Frequencia observada no ponto xi\n",
    "    for i in fac:\n",
    "        fobs.append(i/n)\n",
    "    fobs = np.round(fobs, 5) #arrendondando para 5 casas decimais\n",
    "\n",
    "    if(media == 0 and dp == 0):\n",
    "        media = np.mean(valores)\n",
    "        dp = np.std(valores, ddof=1)\n",
    "        \n",
    "    if (padrao):\n",
    "        zi = [] #normalizacao do ponto xi\n",
    "        for i in xi:\n",
    "            zv = ((i-media)/dp)\n",
    "            zi.append(zv)\n",
    "        fesp = stats.norm.cdf(zi, loc=0, scale=1)\n",
    "        zi = np.round(zi, 2) #duas casas decimais\n",
    "\n",
    "    else:\n",
    "        fesp = stats.norm.cdf(xi, loc=media, scale=dp)\n",
    "\n",
    "    fesp = np.round(fesp, 5) #cinco casas decimais\n",
    "\n",
    "    d1 = np.abs(fesp-fobs) #|FespX(i) - FobsX(i)| para todo xi\n",
    "    fobs_ant = np.concatenate(([0.0], fobs[:-1]))\n",
    "    d2 = np.abs(fesp-fobs_ant) #FespX(i) - FobsX(i-1)|\n",
    "    dcalc = max(np.max(d1), np.max(d2)) #dcalc\n",
    "    dcalc = np.round(dcalc, 6) #seis casas decimais\n",
    "\n",
    "    dc = (c_alpha_ks[alpha])/np.sqrt(n) #Dc\n",
    "    #_, p = stats.kstest(amostra, 'norm', args=(media, dp), N=n) \n",
    "\n",
    "    dc = np.round(dc, 2) #duas casas decimais\n",
    "    #p = np.round(p, 2) #duas casas decimais\n",
    "\n",
    "    return {\n",
    "        'xi': xi,\n",
    "        'fabs': fabs,\n",
    "        'fac': fac,\n",
    "        'fobs': fobs,\n",
    "        'fesp': fesp,\n",
    "        'dcalc': dcalc,\n",
    "        'dc': dc,\n",
    "        }"
   ]
  },
  {
   "cell_type": "code",
   "execution_count": 17,
   "id": "e00fc26b-7744-4b8d-bced-97a7f0bb9d39",
   "metadata": {},
   "outputs": [],
   "source": [
    "def escolha_ks(dc, dcalc, p, alpha):\n",
    "    if(dcalc > dc):\n",
    "        print(\"Rejeitamos H0\")\n",
    "    else:\n",
    "        print(\"Aceitamos H0\")\n",
    "\n",
    "    if(p <= alpha):\n",
    "        print(\"Por p-value, rejeitamos H0\")\n",
    "    else:\n",
    "        print(\"Por p-value, aceitamos H0\")\n",
    "\n",
    "def ks_scp(data):\n",
    "\n",
    "    media = np.mean(data)\n",
    "    dp = np.std(data, ddof=1)\n",
    "    n = len(data)\n",
    "\n",
    "    d_sc, p_sc = stats.kstest(data, 'norm', args=(media, dp), N=n)\n",
    "    \n",
    "    return d_sc, p_sc"
   ]
  },
  {
   "cell_type": "markdown",
   "id": "9b463df8-8895-4ab8-b2ef-23e7905207ba",
   "metadata": {},
   "source": [
    "### Exemplos"
   ]
  },
  {
   "cell_type": "code",
   "execution_count": 13,
   "id": "3c0867ac-e48b-4059-9b3d-e339a3fb52d9",
   "metadata": {},
   "outputs": [],
   "source": [
    "alpha = 0.05\n",
    "media = 42.63889\n",
    "dp = 7.099911\n",
    "padrao1 = 1\n",
    "\n",
    "amostra = [52, 50, 36, 40, 30, 42, 38, 38,\n",
    "           52, 44, 36, 34, 50, 42, 34, 55,\n",
    "           36, 55, 42, 52, 34, 48, 55, 44,\n",
    "           44, 30, 48, 40, 40, 44, 40, 44,\n",
    "           38, 36, 50, 42]"
   ]
  },
  {
   "cell_type": "code",
   "execution_count": 47,
   "id": "b878e80b-6a7b-4a71-a0d5-f5eb3e87eb84",
   "metadata": {},
   "outputs": [],
   "source": [
    "result = kolmogorov_smirnov(amostra, alpha, padrao1, media, dp)\n",
    "dc = result['dc']\n",
    "dcalc = result['dcalc']"
   ]
  },
  {
   "cell_type": "code",
   "execution_count": 48,
   "id": "c996753d-15ae-43c4-819b-c4dbf7dbdc1b",
   "metadata": {},
   "outputs": [],
   "source": [
    "dsc, p = ks_scp(amostra)"
   ]
  },
  {
   "cell_type": "code",
   "execution_count": 49,
   "id": "e7499674-c4f2-4038-96bb-239a310bb0be",
   "metadata": {},
   "outputs": [
    {
     "name": "stdout",
     "output_type": "stream",
     "text": [
      "    xi  fabs  fac     fobs     fesp    dcalc    dc\n",
      "0   30     2    2  0.05556  0.03753  0.11843  0.23\n",
      "1   34     3    5  0.13889  0.11185  0.11843  0.23\n",
      "2   36     4    9  0.25000  0.17488  0.11843  0.23\n",
      "3   38     3   12  0.33333  0.25676  0.11843  0.23\n",
      "4   40     4   16  0.44444  0.35507  0.11843  0.23\n",
      "5   42     4   20  0.55556  0.46415  0.11843  0.23\n",
      "6   44     5   25  0.69444  0.57601  0.11843  0.23\n",
      "7   48     2   27  0.75000  0.77490  0.11843  0.23\n",
      "8   50     3   30  0.83333  0.85008  0.11843  0.23\n",
      "9   52     3   33  0.91667  0.90633  0.11843  0.23\n",
      "10  55     3   36  1.00000  0.95916  0.11843  0.23\n"
     ]
    }
   ],
   "source": [
    "tabelas(result)"
   ]
  },
  {
   "cell_type": "code",
   "execution_count": 50,
   "id": "9c48f51a-c5d5-4fca-8565-a5864a5d6369",
   "metadata": {},
   "outputs": [
    {
     "name": "stdout",
     "output_type": "stream",
     "text": [
      "Dc = 0.23, Dcalc = 0.11843\n",
      "p-value = 0.6502794267036324\n"
     ]
    }
   ],
   "source": [
    "print(f\"Dc = {dc}, Dcalc = {dcalc}\")\n",
    "print(f\"p-value = {p}\")"
   ]
  },
  {
   "cell_type": "code",
   "execution_count": 21,
   "id": "a0ca795f-45f7-449f-930e-fb91f97deccf",
   "metadata": {},
   "outputs": [
    {
     "name": "stdout",
     "output_type": "stream",
     "text": [
      "Aceitamos H0\n",
      "Por p-value, aceitamos H0\n"
     ]
    }
   ],
   "source": [
    "escolha_ks(dc, dcalc, p, alpha)"
   ]
  },
  {
   "cell_type": "markdown",
   "id": "c51700f4-0605-42b2-8778-226858950b84",
   "metadata": {},
   "source": [
    "#### KS-Exemplo 2"
   ]
  },
  {
   "cell_type": "code",
   "execution_count": 37,
   "id": "a86a88e1-cb09-460d-8cf9-ba9d7e1c783a",
   "metadata": {},
   "outputs": [],
   "source": [
    "alpha2 = 0.05\n",
    "padrao2 = 0\n",
    "\n",
    "amostra2 = [random.randint(1, 100) for _ in range(50)]"
   ]
  },
  {
   "cell_type": "code",
   "execution_count": 40,
   "id": "7e0e19c0-3a46-4c84-8759-75dd1865fd10",
   "metadata": {},
   "outputs": [],
   "source": [
    "result2 = kolmogorov_smirnov(amostra2, alpha, padrao2)\n",
    "dc2 = result2['dc']\n",
    "dcalc2 = result2['dcalc']\n",
    "dsc2, p2 = ks_scp(amostra2)"
   ]
  },
  {
   "cell_type": "code",
   "execution_count": 41,
   "id": "6b79af2d-e4f1-4255-b9f8-c34035091f48",
   "metadata": {},
   "outputs": [
    {
     "name": "stdout",
     "output_type": "stream",
     "text": [
      "    xi  fabs  fac  fobs     fesp   dcalc    dc\n",
      "0    1     1    1  0.02  0.03946  0.1521  0.19\n",
      "1    7     2    3  0.06  0.06017  0.1521  0.19\n",
      "2    8     1    4  0.08  0.06433  0.1521  0.19\n",
      "3   12     1    5  0.10  0.08324  0.1521  0.19\n",
      "4   15     2    7  0.14  0.09996  0.1521  0.19\n",
      "5   16     1    8  0.16  0.10604  0.1521  0.19\n",
      "6   17     1    9  0.18  0.11239  0.1521  0.19\n",
      "7   19     3   12  0.24  0.12590  0.1521  0.19\n",
      "8   20     1   13  0.26  0.13306  0.1521  0.19\n",
      "9   22     1   14  0.28  0.14820  0.1521  0.19\n",
      "10  29     2   16  0.32  0.20996  0.1521  0.19\n",
      "11  34     1   17  0.34  0.26212  0.1521  0.19\n",
      "12  36     1   18  0.36  0.28470  0.1521  0.19\n",
      "13  42     2   20  0.40  0.35746  0.1521  0.19\n",
      "14  45     1   21  0.42  0.39611  0.1521  0.19\n",
      "15  48     1   22  0.44  0.43582  0.1521  0.19\n",
      "16  53     2   24  0.48  0.50325  0.1521  0.19\n",
      "17  58     1   25  0.50  0.57059  0.1521  0.19\n",
      "18  60     1   26  0.52  0.59707  0.1521  0.19\n",
      "19  65     1   27  0.54  0.66111  0.1521  0.19\n",
      "20  67     1   28  0.56  0.68559  0.1521  0.19\n",
      "21  69     1   29  0.58  0.70928  0.1521  0.19\n",
      "22  71     2   31  0.62  0.73210  0.1521  0.19\n",
      "23  72     1   32  0.64  0.74316  0.1521  0.19\n",
      "24  74     1   33  0.66  0.76455  0.1521  0.19\n",
      "25  75     2   35  0.70  0.77486  0.1521  0.19\n",
      "26  76     2   37  0.74  0.78491  0.1521  0.19\n",
      "27  80     1   38  0.76  0.82243  0.1521  0.19\n",
      "28  81     1   39  0.78  0.83113  0.1521  0.19\n",
      "29  82     1   40  0.80  0.83954  0.1521  0.19\n",
      "30  84     2   42  0.84  0.85553  0.1521  0.19\n",
      "31  86     2   44  0.88  0.87042  0.1521  0.19\n",
      "32  88     2   46  0.92  0.88420  0.1521  0.19\n",
      "33  89     1   47  0.94  0.89069  0.1521  0.19\n",
      "34  90     1   48  0.96  0.89691  0.1521  0.19\n",
      "35  91     1   49  0.98  0.90287  0.1521  0.19\n",
      "36  92     1   50  1.00  0.90858  0.1521  0.19\n"
     ]
    }
   ],
   "source": [
    "tabelas(result2)"
   ]
  },
  {
   "cell_type": "code",
   "execution_count": 45,
   "id": "9ec5cf85-9583-4844-9b5e-494b20b15131",
   "metadata": {},
   "outputs": [
    {
     "name": "stdout",
     "output_type": "stream",
     "text": [
      " Dc = 0.19,  Dcalc = 0.1521\n",
      " p-value = 0.17828407308397387\n"
     ]
    }
   ],
   "source": [
    "print(f\" Dc = {dc2},  Dcalc = {dcalc2}\")\n",
    "print(f\" p-value = {p2}\")"
   ]
  },
  {
   "cell_type": "code",
   "execution_count": 46,
   "id": "7d1d8862-1712-4d96-a2ee-d81df8b67741",
   "metadata": {},
   "outputs": [
    {
     "name": "stdout",
     "output_type": "stream",
     "text": [
      "Aceitamos H0\n",
      "Por p-value, aceitamos H0\n"
     ]
    }
   ],
   "source": [
    "escolha_ks(dc2, dcalc2, p2, alpha2)"
   ]
  },
  {
   "cell_type": "markdown",
   "id": "a7d640be-c79c-443a-86f9-3a30f21a50ac",
   "metadata": {},
   "source": [
    "#### KS-Exemplo 3"
   ]
  },
  {
   "cell_type": "code",
   "execution_count": 52,
   "id": "0c07126b-fa21-4d94-b57f-4047366be0a9",
   "metadata": {},
   "outputs": [],
   "source": [
    "amostra3 = [random.randint(1, 100) for _ in range(250)]\n",
    "alpha3 = 0.01\n",
    "padrao3 = 1"
   ]
  },
  {
   "cell_type": "code",
   "execution_count": 55,
   "id": "29b61f98-d2b6-477b-b149-ee19e88f7a4c",
   "metadata": {},
   "outputs": [],
   "source": [
    "result3 = kolmogorov_smirnov(amostra3, alpha3, padrao3)\n",
    "dc3 = result3['dc']\n",
    "dcalc3 = result3['dcalc']\n",
    "dsc3, p3 = ks_scp(amostra3)"
   ]
  },
  {
   "cell_type": "code",
   "execution_count": 56,
   "id": "9982f8b3-0626-4283-b451-6c4859130e1e",
   "metadata": {},
   "outputs": [
    {
     "name": "stdout",
     "output_type": "stream",
     "text": [
      "     xi  fabs  fac   fobs     fesp    dcalc   dc\n",
      "0     1     2    2  0.008  0.03166  0.08103  0.1\n",
      "1     2     1    3  0.012  0.03439  0.08103  0.1\n",
      "2     5     3    6  0.024  0.04375  0.08103  0.1\n",
      "3     6     1    7  0.028  0.04729  0.08103  0.1\n",
      "4     7     1    8  0.032  0.05106  0.08103  0.1\n",
      "..  ...   ...  ...    ...      ...      ...  ...\n",
      "86   95     1  241  0.964  0.94797  0.08103  0.1\n",
      "87   96     3  244  0.976  0.95179  0.08103  0.1\n",
      "88   97     4  248  0.992  0.95539  0.08103  0.1\n",
      "89   98     1  249  0.996  0.95877  0.08103  0.1\n",
      "90  100     1  250  1.000  0.96490  0.08103  0.1\n",
      "\n",
      "[91 rows x 7 columns]\n"
     ]
    }
   ],
   "source": [
    "tabelas(result3)"
   ]
  },
  {
   "cell_type": "code",
   "execution_count": 57,
   "id": "84c000d9-18e8-4642-b412-c2b452a2bb44",
   "metadata": {},
   "outputs": [
    {
     "name": "stdout",
     "output_type": "stream",
     "text": [
      "Dc = 0.1, Dcalc = 0.08103\n",
      "p-value = 0.07096883475327143\n"
     ]
    }
   ],
   "source": [
    "print(f\"Dc = {dc3}, Dcalc = {dcalc3}\")\n",
    "print(f\"p-value = {p3}\")"
   ]
  },
  {
   "cell_type": "code",
   "execution_count": 58,
   "id": "2a430e81-ed80-421c-b629-a2a8f85865c2",
   "metadata": {},
   "outputs": [
    {
     "name": "stdout",
     "output_type": "stream",
     "text": [
      "Aceitamos H0\n",
      "Por p-value, aceitamos H0\n"
     ]
    }
   ],
   "source": [
    "escolha_ks(dc3, dcalc3, p3, alpha3)"
   ]
  },
  {
   "cell_type": "markdown",
   "id": "de35ba48-49b1-4e37-b3f2-c651427d597d",
   "metadata": {},
   "source": [
    "### Shapiro-Wilk"
   ]
  },
  {
   "cell_type": "code",
   "execution_count": 59,
   "id": "96c52723-fd5a-4cbc-b1a9-ebef17e2f9a3",
   "metadata": {},
   "outputs": [],
   "source": [
    "def shapiro_wilk(data):\n",
    "    valores = sorted(data) #ordena\n",
    "    n = len(valores) #tamanho da amostra\n",
    "\n",
    "    i = []\n",
    "    x_i = []\n",
    "    if (n % 2 == 0): #verifica se o tam da amostra é par\n",
    "        h = n//2\n",
    "        for j in range(h):\n",
    "            i.append(j+1)\n",
    "            x_i.append(valores[j])\n",
    "\n",
    "        nmim1 = list(reversed([k for k in range(h+1, n+1)]))\n",
    "        x_nmim1 = list(reversed(valores[h:]))\n",
    "\n",
    "    else:\n",
    "        h = (n+1)//2\n",
    "        for j in range(h):\n",
    "            i.append(j)\n",
    "            x_i.append(valores[j])\n",
    "\n",
    "        nmim1 = list(reversed([k for k in range(h+1, n+1)]))\n",
    "        x_nmim1 = list(reversed(valores[h:]))\n",
    "        x_nmim1.append(0)\n",
    "\n",
    "    ain = [] #Ai,n\n",
    "    for j in i:\n",
    "        ain.append(coef_ain_sw[n][j-1])\n",
    "\n",
    "    #Calculo de b\n",
    "    b = 0\n",
    "    for k in range(h):\n",
    "        b = b + ain[k]*(x_nmim1[k] - x_i[k])\n",
    "\n",
    "    media = np.mean(valores) #media estimada da amostra\n",
    "    s = 0\n",
    "    for k in range(n):\n",
    "        s = s + ((valores[k] - media)**2)\n",
    "\n",
    "    wcalc = (b**2)/s\n",
    "\n",
    "    return {\n",
    "        'i': i,\n",
    "        'nmim1': nmim1,\n",
    "        'ain': ain,\n",
    "        'x_nmim1': x_nmim1,\n",
    "        'x_i': x_i,\n",
    "    }, wcalc"
   ]
  },
  {
   "cell_type": "code",
   "execution_count": 84,
   "id": "d1c2f3af-bca7-4bbc-9279-4fcb1baad0de",
   "metadata": {},
   "outputs": [],
   "source": [
    "def sw_scp(data):\n",
    "    wc_sc, p_sc = stats.shapiro(data)\n",
    "    return wc_sc, p_sc\n",
    "\n",
    "\n",
    "\n",
    "def escolha_sw(wcalc, alpha, n, p):\n",
    "    wc = val_criticos_sw[n][alpha]\n",
    "\n",
    "    if(wcalc > wc):\n",
    "        print(\"Hipótese H0 aceita\")\n",
    "    else:\n",
    "        print(\"Hipótese H0 rejeitada\")\n",
    "\n",
    "    if(p > alpha):\n",
    "        print(\"Por p-value (scipy), aceitamos H0\")\n",
    "    else:\n",
    "        print(\"Por p-value (scipy), rejeitamos H0\")"
   ]
  },
  {
   "cell_type": "markdown",
   "id": "865d82e4-b86d-4128-b2a2-14fecfea90ae",
   "metadata": {},
   "source": [
    "### Exemplos"
   ]
  },
  {
   "cell_type": "code",
   "execution_count": 64,
   "id": "fa9f542f-35b8-43a2-b822-320b21ec0a08",
   "metadata": {},
   "outputs": [],
   "source": [
    "valores = [15, 16, 18, 19, 20, 22, 23, 23,\n",
    "          24, 24, 25, 28, 28, 29, 30, 30,\n",
    "          31, 32, 32, 34, 36, 36, 39, 46]\n",
    "\n",
    "alfa = 0.01"
   ]
  },
  {
   "cell_type": "code",
   "execution_count": 85,
   "id": "5f0786f2-5e3e-46a2-b533-32f744d17c17",
   "metadata": {},
   "outputs": [
    {
     "name": "stdout",
     "output_type": "stream",
     "text": [
      "0.9776442871823615\n"
     ]
    }
   ],
   "source": [
    "tstsw, wcalc = shapiro_wilk(valores)\n",
    "wcsc, psw = sw_scp(valores)\n",
    "print(wcalc)"
   ]
  },
  {
   "cell_type": "code",
   "execution_count": 63,
   "id": "879658b7-1471-4428-83ce-4fe09c851429",
   "metadata": {},
   "outputs": [
    {
     "name": "stdout",
     "output_type": "stream",
     "text": [
      "     i  nmim1     ain  x_nmim1  x_i\n",
      "0    1     24  0.4493       46   15\n",
      "1    2     23  0.3098       39   16\n",
      "2    3     22  0.2554       36   18\n",
      "3    4     21  0.2145       36   19\n",
      "4    5     20  0.1807       34   20\n",
      "5    6     19  0.1512       32   22\n",
      "6    7     18  0.1245       32   23\n",
      "7    8     17  0.0997       31   23\n",
      "8    9     16  0.0764       30   24\n",
      "9   10     15  0.0539       30   24\n",
      "10  11     14  0.0321       29   25\n",
      "11  12     13  0.0107       28   28\n"
     ]
    }
   ],
   "source": [
    "tabelas(tstsw)"
   ]
  },
  {
   "cell_type": "code",
   "execution_count": 86,
   "id": "ec23f8fa-0e9b-4813-8485-2c9a7431ed4e",
   "metadata": {},
   "outputs": [
    {
     "name": "stdout",
     "output_type": "stream",
     "text": [
      "Hipótese H0 aceita\n",
      "Por p-value (scipy), aceitamos H0\n"
     ]
    }
   ],
   "source": [
    "escolha_sw(wcalc, alfa, len(valores), psw)"
   ]
  },
  {
   "cell_type": "markdown",
   "id": "59480402-4dc9-48f9-b530-077882306fa0",
   "metadata": {},
   "source": [
    "#### SW - Exemplo 2"
   ]
  },
  {
   "cell_type": "code",
   "execution_count": 90,
   "id": "d2a8d9a4-0806-4c06-b07c-193b56e2f686",
   "metadata": {},
   "outputs": [],
   "source": [
    "vals = [random.randint(1, 99) for _ in range(16)]\n",
    "test, wcalc2 = shapiro_wilk(vals)\n",
    "w_sc, p_sw = sw_scp(vals)"
   ]
  },
  {
   "cell_type": "code",
   "execution_count": 88,
   "id": "1fc6e2d3-1e08-46b7-8684-2e1af1cac45d",
   "metadata": {},
   "outputs": [
    {
     "name": "stdout",
     "output_type": "stream",
     "text": [
      "0.9482997512933554\n"
     ]
    }
   ],
   "source": [
    "print(wcalc2)"
   ]
  },
  {
   "cell_type": "code",
   "execution_count": 89,
   "id": "23387917-c27c-4c07-9dc7-58dff03f8618",
   "metadata": {},
   "outputs": [
    {
     "name": "stdout",
     "output_type": "stream",
     "text": [
      "   i  nmim1     ain  x_nmim1  x_i\n",
      "0  1     16  0.5056       98    2\n",
      "1  2     15  0.3290       97    5\n",
      "2  3     14  0.2521       74   12\n",
      "3  4     13  0.1939       63   22\n",
      "4  5     12  0.1447       58   32\n",
      "5  6     11  0.1005       49   33\n",
      "6  7     10  0.0593       43   34\n",
      "7  8      9  0.0196       43   42\n"
     ]
    }
   ],
   "source": [
    "tabelas(test)"
   ]
  },
  {
   "cell_type": "code",
   "execution_count": 91,
   "id": "c0f0c754-efed-484a-bba6-e4cee24fd750",
   "metadata": {},
   "outputs": [
    {
     "name": "stdout",
     "output_type": "stream",
     "text": [
      "Hipótese H0 aceita\n",
      "Por p-value (scipy), aceitamos H0\n"
     ]
    }
   ],
   "source": [
    "alfa2 = 0.05\n",
    "escolha_sw(wcalc2, alfa2, len(vals), p_sw)"
   ]
  },
  {
   "cell_type": "markdown",
   "id": "be71e611-fbe6-4540-97e5-51c319118a29",
   "metadata": {},
   "source": [
    "## Teste de Homogeniedade de Variância"
   ]
  },
  {
   "cell_type": "markdown",
   "id": "46f0868e-8a91-44e8-9208-f7d6b4ec0012",
   "metadata": {},
   "source": [
    "### Teste X² de Bartlett "
   ]
  },
  {
   "cell_type": "code",
   "execution_count": 100,
   "id": "b853b131-5898-49ca-b203-a62099c083fb",
   "metadata": {},
   "outputs": [],
   "source": [
    "def bartlett(data, alpha):\n",
    "    k = len(data) #quantidade de amostras\n",
    "    n = [len(i) for i in data] #tamanho de cada amostra\n",
    "    N = sum(n) #total de observações\n",
    "\n",
    "    si = [np.var(a, ddof=1) for a in data]\n",
    "\n",
    "    sp = 0\n",
    "    si2 = 0\n",
    "    fc = 0\n",
    "    for i in range(k):\n",
    "        sp = sp + (n[i]-1)*si[i]\n",
    "        si2 = si2 + (n[i]-1)*np.log(si[i])\n",
    "        fc = fc + ((1/(n[i]-1))-(1/(N-k)))\n",
    "        \n",
    "\n",
    "    sp = sp/(N-k) #Sp²\n",
    "    q = (N-k)*np.log(sp)-si2 #Q\n",
    "\n",
    "    #fator de correção\n",
    "    c = 1+(1/(3*(k-1)))*fc\n",
    "\n",
    "    bcalc = q/c\n",
    "    p = 1 - stats.chi2.cdf(bcalc, k-1)\n",
    "    valor_cri = stats.chi2.ppf(1-alpha, k-1)\n",
    "\n",
    "    return bcalc, p, valor_cri"
   ]
  },
  {
   "cell_type": "code",
   "execution_count": 107,
   "id": "1e69491c-36be-4fe9-867c-bfd40c049c37",
   "metadata": {},
   "outputs": [],
   "source": [
    "def bart_sc(data):\n",
    "\n",
    "    b_sc, p_sc = stats.bartlett(*data)\n",
    "\n",
    "    return b_sc, p_sc\n",
    "\n",
    "\n",
    "def escolha_bart(bcalc, vc, alpha, p):\n",
    "    if(bcalc > vc):\n",
    "        print(\"Rejeitamos H0\")\n",
    "    else:\n",
    "        print(\"Aceitamos H0\")\n",
    "\n",
    "    if(p > alpha):\n",
    "        print(\"Por p-value (scipy) Aceitamos H0\")\n",
    "    else:\n",
    "        print(\"Por p-value (scipy) Rejeitamos H0\")\n",
    "        "
   ]
  },
  {
   "cell_type": "code",
   "execution_count": 108,
   "id": "fdb18f75-f30b-42c2-9481-54314593d3d0",
   "metadata": {},
   "outputs": [],
   "source": [
    "grupo1 = [random.randint(1,50) for _ in range(15)]\n",
    "grupo2 = [random.randint(1,50) for _ in range(15)]\n",
    "grupo3 = [random.randint(1,50) for _ in range(15)]\n",
    "\n",
    "alf = 0.05\n",
    "dados = [grupo1, grupo2, grupo3]"
   ]
  },
  {
   "cell_type": "code",
   "execution_count": 109,
   "id": "db3fa7de-7d7a-4e78-b01c-880577369ad6",
   "metadata": {},
   "outputs": [],
   "source": [
    "bcalc, pb, vcrit = bartlett(dados, alf)"
   ]
  },
  {
   "cell_type": "code",
   "execution_count": 110,
   "id": "7dadc6af-81c9-4984-9327-85c757159c98",
   "metadata": {},
   "outputs": [
    {
     "name": "stdout",
     "output_type": "stream",
     "text": [
      "0.33326663083712554 0.8465099565834149 5.99146454710798\n"
     ]
    }
   ],
   "source": [
    "print(bcalc, pb, vcrit)"
   ]
  },
  {
   "cell_type": "code",
   "execution_count": 111,
   "id": "fa3ffd91-844f-4de9-a094-f834c359f3aa",
   "metadata": {},
   "outputs": [
    {
     "name": "stdout",
     "output_type": "stream",
     "text": [
      "1.975667559417658 0.3723824804334528\n"
     ]
    }
   ],
   "source": [
    "bscp, pscp = bart_sc(dados)\n",
    "print(bscp, pscp)"
   ]
  },
  {
   "cell_type": "code",
   "execution_count": 112,
   "id": "d27fe869-71e3-4600-b757-57857c589b5a",
   "metadata": {},
   "outputs": [
    {
     "name": "stdout",
     "output_type": "stream",
     "text": [
      "Aceitamos H0\n",
      "Por p-value (scipy) Aceitamos H0\n"
     ]
    }
   ],
   "source": [
    "escolha_bart(bcalc, vcrit, alf, pscp)"
   ]
  },
  {
   "cell_type": "code",
   "execution_count": null,
   "id": "7429c90c-ef5d-40e1-966c-adb46a42a78e",
   "metadata": {},
   "outputs": [],
   "source": []
  }
 ],
 "metadata": {
  "kernelspec": {
   "display_name": "Python 3 (ipykernel)",
   "language": "python",
   "name": "python3"
  },
  "language_info": {
   "codemirror_mode": {
    "name": "ipython",
    "version": 3
   },
   "file_extension": ".py",
   "mimetype": "text/x-python",
   "name": "python",
   "nbconvert_exporter": "python",
   "pygments_lexer": "ipython3",
   "version": "3.12.11"
  }
 },
 "nbformat": 4,
 "nbformat_minor": 5
}
