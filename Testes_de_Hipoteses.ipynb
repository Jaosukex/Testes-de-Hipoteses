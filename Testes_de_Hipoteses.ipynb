{
 "cells": [
  {
   "cell_type": "markdown",
   "id": "56430453-9f58-4f1f-93d4-a1f14e2a6acc",
   "metadata": {},
   "source": [
    "## Bibliotecas"
   ]
  },
  {
   "cell_type": "code",
   "execution_count": 232,
   "id": "65d2eb54-c143-4fd8-b4f3-88040190f7cc",
   "metadata": {},
   "outputs": [],
   "source": [
    "import random\n",
    "import numpy as np\n",
    "import pandas as pd\n",
    "import matplotlib.pyplot as plt\n",
    "import seaborn as sns\n",
    "from scipy import stats"
   ]
  },
  {
   "cell_type": "markdown",
   "id": "64c4c9e8-dd46-4c6e-ac06-b9c3cda699ae",
   "metadata": {},
   "source": [
    "### Tabelas de Constantes"
   ]
  },
  {
   "cell_type": "code",
   "execution_count": 225,
   "id": "0070bba0-fb8c-4d2c-963d-80f73fa812dc",
   "metadata": {},
   "outputs": [],
   "source": [
    "c_alpha_ks = {0.20: 1.07, 0.15: 1.14,\n",
    "          0.10: 1.22, 0.05: 1.36,\n",
    "          0.01: 1.63\n",
    "         }"
   ]
  },
  {
   "cell_type": "code",
   "execution_count": null,
   "id": "b37e2ee4-b04f-41ce-a6e2-31a87b05defc",
   "metadata": {},
   "outputs": [],
   "source": []
  },
  {
   "cell_type": "code",
   "execution_count": 231,
   "id": "622f9bc5-7ec5-4197-9ce3-09844d0774ed",
   "metadata": {},
   "outputs": [],
   "source": [
    "coef_ain_sw = {2: [0.7071], 3: [0.7071, 0.0000], 4: [0.6872, 0.1677], 5: [0.6646, 0.2143, 0.0000], 6: [0.6431, 0.2806, 0.0875],\n",
    "               7: [0.6233, 0.3031, 0.1401, 0.0000], 8: [0.6052, 0.3164, 0.1743, 0.0561], 9: [0.5888, 0.3244, 0.1976, 0.0947, 0.0000], 10: [0.5739, 0.3291, 0.2141, 0.1224, 0.0399], 11: [0.5061, 0.3315, 0.2260, 0.1429, 0.0695, 0.0000],\n",
    "               12: [0.5475, 0.3325, 0.2347, 0.1586, 0.0922, 0.0303], 13: [0.5359, 0.3325, 0.2412, 0.1707, 0.1099, 0.0539, 0.0000], 14: [0.5251, 0.3318, 0.2460, 0.1802, 0.1240, 0.0727, 0.0240], 15: [0.5150, 0.3306, 0.2495, 0.1878, 0.1353, 0.0880, 0.0433, 0.0000], 16: [0.5056, 0.3290, 0.2521, 0.1939, 0.1447, 0.1005, 0.0593, 0.0196],\n",
    "               17: [0.4968, 0.3273, 0.2540, 0.1988, 0.1524, 0.1109, 0.0725, 0.0359, 0.0000] , 18: [0.4886, 0.3253, 0.2553, 0.2027, 0.1587, 0.1197, 0.0837, 0.0496, 0.0163], 19: [0.4808, 0.3232, 0.2561, 0.2059, 0.1641, 0.1271, 0.0932, 0.0612, 0.0303, 0.0000], 20: [0.4734, 0.3211, 0.2565, 0.2085, 0.1686, 0.1334, 0.1013, 0.0711, 0.0422, 0.0140], \n",
    "               21: [0.4643, 0.3185, 0.2578, 0.2119, 0.1736, 0.1399, 0.1092, 0.0804, 0.0530, 0.0263, 0.0000], 22: [0.4590, 0.3156, 0.2571, 0.2131, 0.1764, 0.1443, 0.1150, 0.0878, 0.0618, 0.0368, 0.0122], 23: [0.4542, 0.3126, 0.2563, 0.2139, 0.1787, 0.1480, 0.1201, 0.0941, 0.0696, 0.0459, 0.0228, 0.0000], 24: [0.4493, 0.3098, 0.2554, 0.2145, 0.1807, 0.1512, 0.1245, 0.0997, 0.0764, 0.0539, 0.0321, 0.0107], \n",
    "               25: [0.4450, 0.3069, 0.2543, 0.2148, 0.1822, 0.1539, 0.1283, 0.1046, 0.0823, 0.0610, 0.0403, 0.0200, 0.0000], 26: [0.4407, 0.3043, 0.2533, 0.2151, 0.1836, 0.1563, 0.1316, 0.1089, 0.0876, 0.0672, 0.0476, 0.0284, 0.0094], 27: [0.4366, 0.3018, 0.2522, 0.2152, 0.1848, 0.1584, 0.1346, 0.1128, 0.0923, 0.0728, 0.0540, 0.0358, 0.0178, 0.0000], 28: [0.4328, 0.2992, 0.2510, 0.2151, 0.1857, 0.1601, 0.1372, 0.1162, 0.0965, 0.0778, 0.0598, 0.0424, 0.0253, 0.0084],\n",
    "               29: [0.4291, 0.2968, 0.2499, 0.2150, 0.1864, 0.1616, 0.1395, 0.1192, 0.1002, 0.0822, 0.0650, 0.0483, 0.0320, 0.0159, 0.0000], 30: [0.4254, 0.2944, 0.2487, 0.2148, 0.1870, 0.1630, 0.1415, 0.1219, 0.1036, 0.0862, 0.0697, 0.0537, 0.0381, 0.0227, 0.0076]\n",
    "}"
   ]
  },
  {
   "cell_type": "code",
   "execution_count": null,
   "id": "29044aad-7e3f-4747-86e3-1a4ae7e0603b",
   "metadata": {},
   "outputs": [],
   "source": []
  },
  {
   "cell_type": "code",
   "execution_count": 237,
   "id": "9c73c4a1-8db0-464c-836f-db2be987be6a",
   "metadata": {},
   "outputs": [],
   "source": [
    "def plotagem(dados_manual, dados_scipy):\n",
    "    pass"
   ]
  },
  {
   "cell_type": "code",
   "execution_count": null,
   "id": "abbbedbf-793a-4a0c-8d68-4e21c76e83cb",
   "metadata": {},
   "outputs": [],
   "source": []
  },
  {
   "cell_type": "code",
   "execution_count": 233,
   "id": "95a4ba4b-75fb-4fc8-b9af-87bf6ebf3458",
   "metadata": {},
   "outputs": [],
   "source": [
    "def kolmogorov_smirnov(data, alpha, padrao=1, media=0, dp=0):\n",
    "    \n",
    "    valores = sorted(data) #Ordena os valores\n",
    "    n = len(valores) #tamanho da amostra\n",
    "    \n",
    "    #Contagem de valores repetidos\n",
    "    x = {}\n",
    "    for v in valores:\n",
    "        x[v] = x.get(v, 0) + 1\n",
    "\n",
    "    \n",
    "    xi = [] #Xi - valores\n",
    "    fabs = [] #Quantas vezes aparece o valor xi\n",
    "    fac = [] #Frequencia relativa acumulada\n",
    "    y = 0\n",
    "    for i, j in x.items():\n",
    "        xi.append(i)\n",
    "        fabs.append(j)\n",
    "        \n",
    "        y += j\n",
    "        fac.append(y)\n",
    "\n",
    "    fobs = [] #Frequencia observada no ponto xi\n",
    "    for i in fac:\n",
    "        fobs.append(i/n)\n",
    "    fobs = np.round(fobs, 5) #arrendondando para 5 casas decimais\n",
    "\n",
    "    if(media == 0 and dp == 0):\n",
    "        media = np.mean(valores)\n",
    "        dp = np.std(valores, ddof=1)\n",
    "        \n",
    "    if (padrao):\n",
    "        zi = [] #normalizacao do ponto xi\n",
    "        for i in xi:\n",
    "            zv = ((i-media)/dp)\n",
    "            zi.append(zv)\n",
    "        fesp = stats.norm.cdf(zi, loc=0, scale=1)\n",
    "        zi = np.round(zi, 2) #duas casas decimais\n",
    "\n",
    "    else:\n",
    "        fesp = stats.norm.cdf(xi, loc=media, scale=dp)\n",
    "\n",
    "    fesp = np.round(fesp, 5) #cinco casas decimais\n",
    "\n",
    "    d1 = np.abs(fesp-fobs) #|FespX(i) - FobsX(i)| para todo xi\n",
    "    fobs_ant = np.concatenate(([0.0], fobs[:-1]))\n",
    "    d2 = np.abs(fesp-fobs_ant) #FespX(i) - FobsX(i-1)|\n",
    "    dcalc = max(np.max(d1), np.max(d2)) #dcalc\n",
    "    dcalc = np.round(dcalc, 6) #seis casas decimais\n",
    "\n",
    "    dc = (c_alpha_ks[alpha])/np.sqrt(n) #Dc\n",
    "    #_, p = stats.kstest(amostra, 'norm', args=(media, dp), N=n) \n",
    "\n",
    "    dc = np.round(dc, 2) #duas casas decimais\n",
    "    #p = np.round(p, 2) #duas casas decimais\n",
    "\n",
    "    return {\n",
    "        'xi': xi,\n",
    "        'fabs': fabs,\n",
    "        'fac': fac,\n",
    "        'fobs': fobs,\n",
    "        'fesp': fesp,\n",
    "        'dcalc': dcalc,\n",
    "        'dc': dc,\n",
    "        }"
   ]
  },
  {
   "cell_type": "code",
   "execution_count": 234,
   "id": "e00fc26b-7744-4b8d-bced-97a7f0bb9d39",
   "metadata": {},
   "outputs": [],
   "source": [
    "def ks_scp(data):\n",
    "\n",
    "    media = np.mean(data)\n",
    "    dp = np.std(data)\n",
    "    n = len(data)\n",
    "\n",
    "    d_sc, p_sc = stats.kstest(data, 'norm', args=(media, dp), N=n)\n",
    "    \n",
    "    return d_sc, p_sc"
   ]
  },
  {
   "cell_type": "code",
   "execution_count": 235,
   "id": "3c0867ac-e48b-4059-9b3d-e339a3fb52d9",
   "metadata": {},
   "outputs": [],
   "source": [
    "alpha = 0.05\n",
    "#media = 42.63889\n",
    "#dp = 7.099911\n",
    "padrao = 1\n",
    "\n",
    "amostra = [52, 50, 36, 40, 30, 42, 38, 38,\n",
    "           52, 44, 36, 34, 50, 42, 34, 55,\n",
    "           36, 55, 42, 52, 34, 48, 55, 44,\n",
    "           44, 30, 48, 40, 40, 44, 40, 44,\n",
    "           38, 36, 50, 42]"
   ]
  },
  {
   "cell_type": "code",
   "execution_count": 283,
   "id": "96c52723-fd5a-4cbc-b1a9-ebef17e2f9a3",
   "metadata": {},
   "outputs": [],
   "source": [
    "def shapiro_wilk(data):\n",
    "    valores = sorted(data) #ordena\n",
    "    n = len(valores) #tamanho da amostra\n",
    "\n",
    "    i = []\n",
    "    x_i = []\n",
    "    nmim1 = []\n",
    "    x_nmim1 = []\n",
    "    if (n % 2 == 0): #verifica se o tam da amostra é par\n",
    "        for j in range((n//2)):\n",
    "            i.append(valores[j])\n",
    "            x_i.append(valores[j])\n",
    "\n",
    "        for k in range((n//2), n):\n",
    "            nmim1.append(valores[k])\n",
    "            x_nmim1.append(valores[k])\n",
    "\n",
    "    else:\n",
    "        for j in range((n+1)//2):\n",
    "            i.append(valores[j])\n",
    "            x_i.append(valores[j])\n",
    "\n",
    "        for k in range((n+1)//2, n):\n",
    "            nmim1.append(valores[k])\n",
    "            x_nmim1.append(valores[k])\n",
    "            \n",
    "\n",
    "    ain = [] #Ai,n\n",
    "    for j in i:\n",
    "        ain.append(coef_ain_sw[n][j])\n",
    "\n",
    "    ain_vzxs = []\n",
    "    "
   ]
  },
  {
   "cell_type": "code",
   "execution_count": 239,
   "id": "76781b51-133c-4e53-ba03-721206c203eb",
   "metadata": {},
   "outputs": [
    {
     "name": "stdout",
     "output_type": "stream",
     "text": [
      "True\n"
     ]
    }
   ],
   "source": [
    "print(10 % 2 == 0)"
   ]
  },
  {
   "cell_type": "code",
   "execution_count": 262,
   "id": "fa9f542f-35b8-43a2-b822-320b21ec0a08",
   "metadata": {},
   "outputs": [
    {
     "name": "stdout",
     "output_type": "stream",
     "text": [
      "[0, 1, 2, 3, 4, 5, 6, 7, 8, 9, 10, 11, 12, 13, 14]\n"
     ]
    }
   ],
   "source": [
    "valores = [i for i in range(15)]\n",
    "print(valores)"
   ]
  },
  {
   "cell_type": "code",
   "execution_count": 263,
   "id": "a19823a9-e7c4-4162-975a-0b385213b8a0",
   "metadata": {},
   "outputs": [
    {
     "name": "stdout",
     "output_type": "stream",
     "text": [
      "15\n"
     ]
    }
   ],
   "source": [
    "n = len(valores)\n",
    "print(n)"
   ]
  },
  {
   "cell_type": "code",
   "execution_count": 264,
   "id": "34e3a2e7-75c5-4c1d-ab1e-0b17201f5d14",
   "metadata": {},
   "outputs": [
    {
     "name": "stdout",
     "output_type": "stream",
     "text": [
      "7\n"
     ]
    }
   ],
   "source": [
    "print(valores[(n//2)])"
   ]
  },
  {
   "cell_type": "code",
   "execution_count": 265,
   "id": "70082e65-b80c-45da-960f-f517794e6c80",
   "metadata": {},
   "outputs": [
    {
     "name": "stdout",
     "output_type": "stream",
     "text": [
      "5\n"
     ]
    }
   ],
   "source": [
    "print(valores[5])"
   ]
  },
  {
   "cell_type": "code",
   "execution_count": 277,
   "id": "4f11b7c8-0b91-40ef-b7ce-d1f39bb94cb9",
   "metadata": {},
   "outputs": [
    {
     "name": "stdout",
     "output_type": "stream",
     "text": [
      "[0, 1, 2, 3, 4, 5, 6, 7]\n"
     ]
    }
   ],
   "source": [
    "l = []\n",
    "m = []\n",
    "for j in range((n+1)//2):\n",
    "    l.append(valores[j])\n",
    "\n",
    "print(l)"
   ]
  },
  {
   "cell_type": "code",
   "execution_count": 278,
   "id": "d7dae1d0-9d6c-4a8f-8172-d9a8ccf62a74",
   "metadata": {},
   "outputs": [
    {
     "name": "stdout",
     "output_type": "stream",
     "text": [
      "[8, 9, 10, 11, 12, 13, 14]\n"
     ]
    }
   ],
   "source": [
    "for k in range((n+1)//2, n):\n",
    "    m.append(valores[k])\n",
    "\n",
    "print(m)"
   ]
  },
  {
   "cell_type": "code",
   "execution_count": 279,
   "id": "57ad7e75-db54-4589-8258-00f1461eb3e1",
   "metadata": {},
   "outputs": [
    {
     "name": "stdout",
     "output_type": "stream",
     "text": [
      "8\n",
      "9\n",
      "10\n",
      "11\n",
      "12\n",
      "13\n",
      "14\n"
     ]
    }
   ],
   "source": [
    "for i in m:\n",
    "    print(i)"
   ]
  },
  {
   "cell_type": "code",
   "execution_count": 281,
   "id": "0f6475d8-6ac2-46ed-882e-c861cd8361a4",
   "metadata": {},
   "outputs": [
    {
     "name": "stdout",
     "output_type": "stream",
     "text": [
      "0\n",
      "1\n",
      "2\n",
      "3\n",
      "4\n",
      "5\n",
      "6\n",
      "7\n",
      "[0.515, 0.3306, 0.2495, 0.1878, 0.1353, 0.088, 0.0433, 0.0]\n"
     ]
    }
   ],
   "source": [
    "ain = []\n",
    "\n",
    "for k in l:\n",
    "    print(k)\n",
    "    ain.append(coef_ain_sw[n][k])\n",
    "\n",
    "print(ain)"
   ]
  },
  {
   "cell_type": "code",
   "execution_count": null,
   "id": "5e80c099-87ed-4cec-b177-1219edb9e55c",
   "metadata": {},
   "outputs": [],
   "source": []
  }
 ],
 "metadata": {
  "kernelspec": {
   "display_name": "Python 3 (ipykernel)",
   "language": "python",
   "name": "python3"
  },
  "language_info": {
   "codemirror_mode": {
    "name": "ipython",
    "version": 3
   },
   "file_extension": ".py",
   "mimetype": "text/x-python",
   "name": "python",
   "nbconvert_exporter": "python",
   "pygments_lexer": "ipython3",
   "version": "3.12.11"
  }
 },
 "nbformat": 4,
 "nbformat_minor": 5
}
